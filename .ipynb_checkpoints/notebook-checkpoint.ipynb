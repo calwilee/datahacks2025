{
 "cells": [
  {
   "cell_type": "code",
   "execution_count": 45,
   "metadata": {},
   "outputs": [],
   "source": [
    "import pandas as pd\n",
    "import numpy as np\n",
    "import tensorflow as tf\n",
    "from tensorflow import keras\n",
    "from keras import layers\n",
    "import re\n"
   ]
  },
  {
   "cell_type": "code",
   "execution_count": 39,
   "metadata": {},
   "outputs": [],
   "source": [
    "df = pd.read_csv('mbti_1.csv')"
   ]
  },
  {
   "cell_type": "markdown",
   "metadata": {},
   "source": [
    "### Personality Classifer From Text"
   ]
  },
  {
   "cell_type": "code",
   "execution_count": 47,
   "metadata": {},
   "outputs": [],
   "source": [
    "# Text Cleaning \n",
    "# remove links from posts\n",
    "def remove_links(text):\n",
    "  url_pattern = r'https?://\\S+|www\\.\\S+'\n",
    "  return re.sub(url_pattern, '', text)\n",
    "\n",
    "# only get letters in text\n",
    "def get_alphanumeric(text):\n",
    "    return re.sub(r'[^a-zA-Z\\s]', '', text)"
   ]
  },
  {
   "cell_type": "code",
   "execution_count": 57,
   "metadata": {},
   "outputs": [
    {
     "data": {
      "text/html": [
       "<div>\n",
       "<style scoped>\n",
       "    .dataframe tbody tr th:only-of-type {\n",
       "        vertical-align: middle;\n",
       "    }\n",
       "\n",
       "    .dataframe tbody tr th {\n",
       "        vertical-align: top;\n",
       "    }\n",
       "\n",
       "    .dataframe thead th {\n",
       "        text-align: right;\n",
       "    }\n",
       "</style>\n",
       "<table border=\"1\" class=\"dataframe\">\n",
       "  <thead>\n",
       "    <tr style=\"text-align: right;\">\n",
       "      <th></th>\n",
       "      <th>type</th>\n",
       "      <th>posts</th>\n",
       "      <th>i_e</th>\n",
       "      <th>s_n</th>\n",
       "      <th>t_f</th>\n",
       "      <th>j_p</th>\n",
       "    </tr>\n",
       "  </thead>\n",
       "  <tbody>\n",
       "    <tr>\n",
       "      <th>0</th>\n",
       "      <td>INFJ</td>\n",
       "      <td>and intj moments    sportscenter not top ten ...</td>\n",
       "      <td>True</td>\n",
       "      <td>False</td>\n",
       "      <td>False</td>\n",
       "      <td>True</td>\n",
       "    </tr>\n",
       "    <tr>\n",
       "      <th>1</th>\n",
       "      <td>ENTP</td>\n",
       "      <td>im finding the lack of me in these posts very ...</td>\n",
       "      <td>False</td>\n",
       "      <td>False</td>\n",
       "      <td>True</td>\n",
       "      <td>False</td>\n",
       "    </tr>\n",
       "    <tr>\n",
       "      <th>2</th>\n",
       "      <td>INTP</td>\n",
       "      <td>good one      course to which i say i know tha...</td>\n",
       "      <td>True</td>\n",
       "      <td>False</td>\n",
       "      <td>True</td>\n",
       "      <td>False</td>\n",
       "    </tr>\n",
       "    <tr>\n",
       "      <th>3</th>\n",
       "      <td>INTJ</td>\n",
       "      <td>dear intp   i enjoyed our conversation the oth...</td>\n",
       "      <td>True</td>\n",
       "      <td>False</td>\n",
       "      <td>True</td>\n",
       "      <td>True</td>\n",
       "    </tr>\n",
       "    <tr>\n",
       "      <th>4</th>\n",
       "      <td>ENTJ</td>\n",
       "      <td>youre firedthats another silly misconception t...</td>\n",
       "      <td>False</td>\n",
       "      <td>False</td>\n",
       "      <td>True</td>\n",
       "      <td>True</td>\n",
       "    </tr>\n",
       "    <tr>\n",
       "      <th>...</th>\n",
       "      <td>...</td>\n",
       "      <td>...</td>\n",
       "      <td>...</td>\n",
       "      <td>...</td>\n",
       "      <td>...</td>\n",
       "      <td>...</td>\n",
       "    </tr>\n",
       "    <tr>\n",
       "      <th>8670</th>\n",
       "      <td>ISFP</td>\n",
       "      <td>just because i always think of cats as fi dom...</td>\n",
       "      <td>True</td>\n",
       "      <td>True</td>\n",
       "      <td>False</td>\n",
       "      <td>False</td>\n",
       "    </tr>\n",
       "    <tr>\n",
       "      <th>8671</th>\n",
       "      <td>ENFP</td>\n",
       "      <td>soif this thread already exists someplace else...</td>\n",
       "      <td>False</td>\n",
       "      <td>False</td>\n",
       "      <td>False</td>\n",
       "      <td>False</td>\n",
       "    </tr>\n",
       "    <tr>\n",
       "      <th>8672</th>\n",
       "      <td>INTP</td>\n",
       "      <td>so many questions when i do these things  i wo...</td>\n",
       "      <td>True</td>\n",
       "      <td>False</td>\n",
       "      <td>True</td>\n",
       "      <td>False</td>\n",
       "    </tr>\n",
       "    <tr>\n",
       "      <th>8673</th>\n",
       "      <td>INFP</td>\n",
       "      <td>i am very conflicted right now when it comes t...</td>\n",
       "      <td>True</td>\n",
       "      <td>False</td>\n",
       "      <td>False</td>\n",
       "      <td>False</td>\n",
       "    </tr>\n",
       "    <tr>\n",
       "      <th>8674</th>\n",
       "      <td>INFP</td>\n",
       "      <td>it has been too long since i have been on pers...</td>\n",
       "      <td>True</td>\n",
       "      <td>False</td>\n",
       "      <td>False</td>\n",
       "      <td>False</td>\n",
       "    </tr>\n",
       "  </tbody>\n",
       "</table>\n",
       "<p>8675 rows × 6 columns</p>\n",
       "</div>"
      ],
      "text/plain": [
       "      type                                              posts    i_e    s_n  \\\n",
       "0     INFJ   and intj moments    sportscenter not top ten ...   True  False   \n",
       "1     ENTP  im finding the lack of me in these posts very ...  False  False   \n",
       "2     INTP  good one      course to which i say i know tha...   True  False   \n",
       "3     INTJ  dear intp   i enjoyed our conversation the oth...   True  False   \n",
       "4     ENTJ  youre firedthats another silly misconception t...  False  False   \n",
       "...    ...                                                ...    ...    ...   \n",
       "8670  ISFP   just because i always think of cats as fi dom...   True   True   \n",
       "8671  ENFP  soif this thread already exists someplace else...  False  False   \n",
       "8672  INTP  so many questions when i do these things  i wo...   True  False   \n",
       "8673  INFP  i am very conflicted right now when it comes t...   True  False   \n",
       "8674  INFP  it has been too long since i have been on pers...   True  False   \n",
       "\n",
       "        t_f    j_p  \n",
       "0     False   True  \n",
       "1      True  False  \n",
       "2      True  False  \n",
       "3      True   True  \n",
       "4      True   True  \n",
       "...     ...    ...  \n",
       "8670  False  False  \n",
       "8671  False  False  \n",
       "8672   True  False  \n",
       "8673  False  False  \n",
       "8674  False  False  \n",
       "\n",
       "[8675 rows x 6 columns]"
      ]
     },
     "execution_count": 57,
     "metadata": {},
     "output_type": "execute_result"
    }
   ],
   "source": [
    "df['posts'] = df['posts'].apply(remove_links).apply(get_alphanumeric).str.lower()\n",
    "df = df.assign(i_e = df['type'].apply(lambda x: 'I' in x))\n",
    "df = df.assign(s_n = df['type'].apply(lambda x: 'S' in x))\n",
    "df = df.assign(t_f = df['type'].apply(lambda x: 'T' in x))\n",
    "df = df.assign(j_p = df['type'].apply(lambda x: 'J' in x))\n",
    "df"
   ]
  },
  {
   "cell_type": "code",
   "execution_count": 49,
   "metadata": {},
   "outputs": [
    {
     "data": {
      "text/plain": [
       "' and intj moments    sportscenter not top ten plays    prankswhat has been the most lifechanging experience in your life     on repeat for most of todaymay the perc experience immerse youthe last thing my infj friend posted on his facebook before committing suicide the next day rest in peace    enfj sorry to hear of your distress its only natural for a relationship to not be perfection all the time in every moment of existence try to figure the hard times as times of growth as       welcome and stuff  game set matchprozac wellbrutin at least thirty minutes of moving your legs and i dont mean moving them while sitting in your same desk chair weed in moderation maybe try edibles as a healthier alternativebasically come up with three items youve determined that each type or whichever types you want to do would more than likely use given each types cognitive functions and whatnot when left byall things in moderation  sims is indeed a video game and a good one at that note a good one at that is somewhat subjective in that i am not completely promoting the death of any given simdear enfp  what were your favorite video games growing up and what are your now current favorite video games cool appears to be too late sadtheres someone out there for everyonewait i thought confidence was a good thingi just cherish the time of solitude bc i revel within my inner world more whereas most other time id be workin just enjoy the me time while you can dont worry people will always be around toyo entp ladies if youre into a complimentary personalitywell hey when your main social outlet is xbox live conversations and even then you verbally fatigue quickly  i really dig the part from  to  because this thread requires it of meget high in backyard roast and eat marshmellows in backyard while conversing over something intellectual followed by massages and kisses for too many bs in that sentence how could you think of the bbanned for watching movies in the corner with the duncesbanned because health class clearly taught you nothing about peer pressurebanned for a whole host of reasons two baby deer on left and right munching on a beetle in the middle   using their own blood two cavemen diary todays latest happenings on their designated cave diary wall   i see it asa pokemon world  an infj society  everyone becomes an optimist all artists are artists because they draw its the idea that counts in forming something of your own like a signaturewelcome to the robot ranks person who downed my selfesteem cuz im not an avid signature artist like herself proudbanned for taking all the room under my bed ya gotta learn to share with the roaches for being too much of a thundering grumbling kind of storm yepahh old high school music i havent heard in ages    failed a public speaking class a few years ago and ive sort of learned what i could do better were i to be in that position again a big part of my failure was just overloading myself with tooi like this persons mentality hes a confirmed intj by the way  to the denver area and start a new life for myself'"
      ]
     },
     "execution_count": 49,
     "metadata": {},
     "output_type": "execute_result"
    }
   ],
   "source": [
    "df['posts'][0]"
   ]
  },
  {
   "cell_type": "code",
   "execution_count": null,
   "metadata": {},
   "outputs": [],
   "source": []
  }
 ],
 "metadata": {
  "kernelspec": {
   "display_name": "Python 3 (ipykernel)",
   "language": "python",
   "name": "python3"
  },
  "language_info": {
   "codemirror_mode": {
    "name": "ipython",
    "version": 3
   },
   "file_extension": ".py",
   "mimetype": "text/x-python",
   "name": "python",
   "nbconvert_exporter": "python",
   "pygments_lexer": "ipython3",
   "version": "3.10.12"
  }
 },
 "nbformat": 4,
 "nbformat_minor": 4
}
